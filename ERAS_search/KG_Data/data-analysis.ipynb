{
 "cells": [
  {
   "cell_type": "code",
   "execution_count": 61,
   "metadata": {},
   "outputs": [],
   "source": [
    "### Pattern Analysis\n",
    "\n",
    "import numpy as np\n",
    "\n",
    "tra_path, val_path, tst_path = \"DDB14/train.txt\", \"DDB14/valid.txt\", \"DDB14/test.txt\"\n",
    "\n",
    "def read(path):\n",
    "    all_list = []\n",
    "    with open(path) as f:\n",
    "        for tmp in f:\n",
    "            triplet = tmp.strip(\"\\n\").split(\"\\t\")\n",
    "            h = int(triplet[0])\n",
    "            r = triplet[1]\n",
    "            t = int(triplet[2])\n",
    "            all_list.append([h, r, t])\n",
    "    return all_list\n",
    "\n",
    "all_trips = read(tra_path) #+ read(val_path) + read(tst_path)\n",
    "\n",
    "max_ent = 0\n",
    "for trip in all_trips:\n",
    "    max_ent = max(trip[0], max_ent, trip[2])\n",
    "    \n"
   ]
  },
  {
   "cell_type": "code",
   "execution_count": 62,
   "metadata": {},
   "outputs": [],
   "source": [
    "A=np.empty((max_ent+1,max_ent+1), dtype=object)"
   ]
  },
  {
   "cell_type": "code",
   "execution_count": 64,
   "metadata": {},
   "outputs": [],
   "source": [
    "for trip in all_trips:\n",
    "    h, r, t = trip[0], trip[1], trip[2]\n",
    "    if A[h,t] is None:\n",
    "        A[h,t] = [r]\n",
    "    else:\n",
    "        A[h,t].append(r)"
   ]
  },
  {
   "cell_type": "code",
   "execution_count": 65,
   "metadata": {
    "scrolled": true
   },
   "outputs": [],
   "source": [
    "relations = [trip[1] for trip in all_trips]\n",
    "relation_set = set(relations)\n",
    "\n",
    "rela_dict = dict()\n",
    "for item in relation_set:\n",
    "    rela_dict[item] = [0,0,0,0]\n",
    "\n",
    "for trip in all_trips:\n",
    "    h, r, t = trip[0], trip[1], trip[2]\n",
    "        \n",
    "    # record its exis\n",
    "    rela_dict[r][0] += 1\n",
    "    \n",
    "    # record first scenario r is none\n",
    "    if A[t][h] is None:\n",
    "        rela_dict[r][1] += 1\n",
    "    else:\n",
    "        if len(A[t][h]) ==1 :\n",
    "            if A[t][h][0] == r:\n",
    "                rela_dict[r][2] += 1\n",
    "            else:\n",
    "                rela_dict[r][3] += 1\n",
    "        elif len(A[t][h]) >1 :\n",
    "            print (A[t][h])\n",
    "    "
   ]
  },
  {
   "cell_type": "code",
   "execution_count": 66,
   "metadata": {
    "scrolled": true
   },
   "outputs": [
    {
     "data": {
      "text/plain": [
       "{'is a vector for': [80, 80, 0, 0],\n",
       " 'belongs to drug super-family': [106, 106, 0, 0],\n",
       " 'belongs to the drug family of': [2351, 2351, 0, 0],\n",
       " 'interacts with': [732, 732, 0, 0],\n",
       " 'is associated with': [304, 303, 0, 1],\n",
       " 'is a subtype of': [849, 845, 0, 4],\n",
       " 'may cause': [22615, 22594, 14, 7],\n",
       " 'is a risk factor for': [911, 910, 0, 1],\n",
       " 'may be allelic with': [273, 273, 0, 0],\n",
       " 'is an ingredient of': [4, 4, 0, 0],\n",
       " 'belong(s) to the category of': [7453, 7453, 0, 0],\n",
       " 'see also': [363, 362, 0, 1],\n",
       " 'may contraindicate': [465, 465, 0, 0],\n",
       " 'is a category subset of': [55, 55, 0, 0]}"
      ]
     },
     "execution_count": 66,
     "metadata": {},
     "output_type": "execute_result"
    }
   ],
   "source": [
    "rela_dict"
   ]
  },
  {
   "cell_type": "code",
   "execution_count": 73,
   "metadata": {},
   "outputs": [
    {
     "name": "stdout",
     "output_type": "stream",
     "text": [
      "[0.002 0.003 0.064 0.02  0.008 0.023 0.619 0.025 0.007 0.    0.204 0.01\n",
      " 0.013 0.002]\n"
     ]
    }
   ],
   "source": [
    "rate = np.round(np.asarray([80,106,2351,732,304,849,22615,911,273,4,7453,363,465,55])/len(all_trips), 3)\n",
    "print (rate)"
   ]
  },
  {
   "cell_type": "code",
   "execution_count": 58,
   "metadata": {},
   "outputs": [
    {
     "name": "stdout",
     "output_type": "stream",
     "text": [
      "3884 ['belong(s) to the category of', 'is a subtype of'] 1\n",
      "7034 ['belong(s) to the category of', 'is a subtype of'] 1\n",
      "7352 ['belong(s) to the category of', 'is a subtype of'] 1\n",
      "7597 ['belong(s) to the category of', 'is a subtype of'] 1\n",
      "9474 ['belong(s) to the category of', 'is a subtype of'] 1\n",
      "9476 ['belong(s) to the category of', 'is a subtype of'] 1\n",
      "10477 ['belong(s) to the category of', 'is a subtype of'] 1\n",
      "10478 ['belong(s) to the category of', 'is a subtype of'] 1\n",
      "11102 ['belong(s) to the category of', 'is a subtype of'] 1\n",
      "11103 ['belong(s) to the category of', 'is a subtype of'] 1\n",
      "11105 ['belong(s) to the category of', 'is a subtype of'] 1\n",
      "11619 ['belong(s) to the category of', 'is a subtype of'] 1\n",
      "11620 ['belong(s) to the category of', 'is a subtype of'] 1\n",
      "12389 ['belong(s) to the category of', 'is a subtype of'] 1\n",
      "12871 ['belong(s) to the category of', 'is a subtype of'] 1\n",
      "30762 ['belong(s) to the category of', 'is a subtype of'] 1\n",
      "31406 ['belong(s) to the category of', 'is a subtype of'] 1\n",
      "32419 ['belong(s) to the category of', 'is a subtype of'] 1\n",
      "7034 ['belong(s) to the category of', 'is a subtype of'] 1\n",
      "7352 ['belong(s) to the category of', 'is a subtype of'] 1\n",
      "7597 ['belong(s) to the category of', 'is a subtype of'] 1\n",
      "9474 ['belong(s) to the category of', 'is a subtype of'] 1\n",
      "9476 ['belong(s) to the category of', 'is a subtype of'] 1\n",
      "10477 ['belong(s) to the category of', 'is a subtype of'] 1\n",
      "10478 ['belong(s) to the category of', 'is a subtype of'] 1\n",
      "11102 ['belong(s) to the category of', 'is a subtype of'] 1\n",
      "11103 ['belong(s) to the category of', 'is a subtype of'] 1\n",
      "11104 ['is a subtype of', 'belong(s) to the category of'] 1\n",
      "11105 ['belong(s) to the category of', 'is a subtype of'] 1\n",
      "11619 ['belong(s) to the category of', 'is a subtype of'] 1\n",
      "12870 ['is a subtype of', 'belong(s) to the category of'] 1\n",
      "12871 ['belong(s) to the category of', 'is a subtype of'] 1\n",
      "12872 ['is a subtype of', 'belong(s) to the category of'] 1\n",
      "13494 ['is a subtype of', 'belong(s) to the category of'] 1\n",
      "31406 ['belong(s) to the category of', 'is a subtype of'] 1\n",
      "32419 ['belong(s) to the category of', 'is a subtype of'] 1\n",
      "1039 ['is a risk factor for', 'may cause'] 792\n",
      "32504 ['is a subtype of', 'see also'] 2197\n",
      "32504 ['is a subtype of', 'see also'] 2197\n",
      "10643 ['may cause', 'is a risk factor for'] 2514\n",
      "10643 ['may cause', 'is a risk factor for'] 2514\n",
      "7698 ['is a subtype of', 'may cause'] 3742\n",
      "29320 ['see also', 'is a subtype of'] 6870\n",
      "6895 ['may cause', 'see also'] 6890\n",
      "6895 ['may cause', 'see also'] 6890\n",
      "15788 ['may cause', 'is a subtype of'] 7430\n",
      "15788 ['may cause', 'is a subtype of'] 7430\n",
      "1039 ['may cause', 'is a risk factor for'] 8664\n",
      "1039 ['may cause', 'is a risk factor for'] 8664\n",
      "12136 ['may cause', 'is associated with'] 8807\n",
      "12136 ['may cause', 'is associated with'] 8807\n",
      "6890 ['is a subtype of', 'see also'] 24405\n",
      "6890 ['is a subtype of', 'see also'] 24405\n",
      "34111 ['may be allelic with', 'see also'] 29848\n",
      "34111 ['may be allelic with', 'see also'] 29848\n",
      "19317 ['see also', 'may cause'] 30745\n",
      "13562 ['may cause', 'is a subtype of'] 30835\n",
      "13562 ['may cause', 'is a subtype of'] 30835\n",
      "12870 ['is a subtype of', 'belong(s) to the category of'] 1\n",
      "11620 ['belong(s) to the category of', 'is a subtype of'] 1\n",
      "9475 ['belong(s) to the category of', 'is a subtype of'] 1\n",
      "12390 ['belong(s) to the category of', 'is a subtype of'] 1\n",
      "1039 ['is a risk factor for', 'may cause'] 792\n",
      "7698 ['is a subtype of', 'may cause'] 3742\n",
      "12389 ['belong(s) to the category of', 'is a subtype of'] 1\n",
      "13494 ['is a subtype of', 'belong(s) to the category of'] 1\n",
      "12872 ['is a subtype of', 'belong(s) to the category of'] 1\n",
      "7351 ['belong(s) to the category of', 'is a subtype of'] 1\n",
      "12390 ['belong(s) to the category of', 'is a subtype of'] 1\n",
      "3884 ['belong(s) to the category of', 'is a subtype of'] 1\n",
      "19317 ['see also', 'may cause'] 30745\n",
      "11104 ['is a subtype of', 'belong(s) to the category of'] 1\n",
      "7351 ['belong(s) to the category of', 'is a subtype of'] 1\n",
      "9475 ['belong(s) to the category of', 'is a subtype of'] 1\n",
      "30762 ['belong(s) to the category of', 'is a subtype of'] 1\n",
      "29320 ['see also', 'is a subtype of'] 6870\n"
     ]
    }
   ],
   "source": [
    "count = 0\n",
    "#triple_set = []\n",
    "for trip in all_trips:\n",
    "    h, r, t = trip[0], trip[1], trip[2]\n",
    "    if len (A[h][t]) > 1:\n",
    "        #triple_set.append((h, A[h][t], t ))\n",
    "        print (h, A[h][t], t)\n"
   ]
  },
  {
   "cell_type": "code",
   "execution_count": 57,
   "metadata": {},
   "outputs": [
    {
     "ename": "TypeError",
     "evalue": "unhashable type: 'list'",
     "output_type": "error",
     "traceback": [
      "\u001b[0;31m---------------------------------------------------------------------------\u001b[0m",
      "\u001b[0;31mTypeError\u001b[0m                                 Traceback (most recent call last)",
      "\u001b[0;32m<ipython-input-57-9aaf6e1db7f1>\u001b[0m in \u001b[0;36m<module>\u001b[0;34m\u001b[0m\n\u001b[0;32m----> 1\u001b[0;31m \u001b[0mset\u001b[0m\u001b[0;34m(\u001b[0m\u001b[0mtriple_set\u001b[0m\u001b[0;34m)\u001b[0m\u001b[0;34m\u001b[0m\u001b[0;34m\u001b[0m\u001b[0m\n\u001b[0m",
      "\u001b[0;31mTypeError\u001b[0m: unhashable type: 'list'"
     ]
    }
   ],
   "source": []
  },
  {
   "cell_type": "code",
   "execution_count": null,
   "metadata": {},
   "outputs": [],
   "source": []
  }
 ],
 "metadata": {
  "kernelspec": {
   "display_name": "Python 3",
   "language": "python",
   "name": "python3"
  },
  "language_info": {
   "codemirror_mode": {
    "name": "ipython",
    "version": 3
   },
   "file_extension": ".py",
   "mimetype": "text/x-python",
   "name": "python",
   "nbconvert_exporter": "python",
   "pygments_lexer": "ipython3",
   "version": "3.7.1"
  }
 },
 "nbformat": 4,
 "nbformat_minor": 2
}
